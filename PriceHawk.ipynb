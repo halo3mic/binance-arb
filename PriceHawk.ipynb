{
 "cells": [
  {
   "cell_type": "code",
   "execution_count": 1,
   "metadata": {
    "ExecuteTime": {
     "end_time": "2020-05-06T16:33:03.246005Z",
     "start_time": "2020-05-06T16:33:03.147785Z"
    }
   },
   "outputs": [],
   "source": [
    "from pprint import pprint\n",
    "import binance as bb\n",
    "import itertools as it\n",
    "import copy"
   ]
  },
  {
   "cell_type": "code",
   "execution_count": 2,
   "metadata": {
    "ExecuteTime": {
     "end_time": "2020-05-06T16:33:03.260141Z",
     "start_time": "2020-05-06T16:33:03.246005Z"
    }
   },
   "outputs": [],
   "source": [
    "def get_books(pairs, limit=100):\n",
    "    books = {}\n",
    "    for pair in pairs:\n",
    "        books[pair] = bb.fetch_order_book(bb.API_KEY, pair, limit=limit)\n",
    "    return books\n",
    "\n",
    "\n",
    "def get_best_price(orders, money_in, inverse=False):\n",
    "    # What happen if order book too small?\n",
    "    avl = money_in\n",
    "    money_out = 0\n",
    "    for price, amount in orders:\n",
    "        price, amount = float(price), float(amount)\n",
    "        diff = avl - (amount if not inverse else amount*price)\n",
    "        if diff <= 0:\n",
    "            money_out += avl*price if not inverse else avl/price\n",
    "            break\n",
    "        else:\n",
    "            money_out += (price*amount) if not inverse else amount\n",
    "            avl -= amount if not inverse else amount*price\n",
    "    return money_out/money_in"
   ]
  },
  {
   "cell_type": "code",
   "execution_count": 3,
   "metadata": {
    "ExecuteTime": {
     "end_time": "2020-05-06T16:33:06.226824Z",
     "start_time": "2020-05-06T16:33:03.264135Z"
    }
   },
   "outputs": [],
   "source": [
    "eth_pairs = ['ETHEUR', 'ETHUSDT', 'ETHBUSD', 'ETHUSDC','ETHTUSD']\n",
    "usdt_pairs = ['EURUSDT', 'BUSDUSDT', 'TUSDUSDT', 'USDCUSDT']\n",
    "\n",
    "eth_books = get_books(eth_pairs, limit=10)\n",
    "usdt_books = get_books(usdt_pairs, limit=10)"
   ]
  },
  {
   "cell_type": "code",
   "execution_count": 4,
   "metadata": {
    "ExecuteTime": {
     "end_time": "2020-05-06T16:33:06.236810Z",
     "start_time": "2020-05-06T16:33:06.226824Z"
    }
   },
   "outputs": [],
   "source": [
    "# Normalize_books\n",
    "normalized_books = copy.deepcopy(eth_books)\n",
    "for eth_pair in eth_books:\n",
    "    if eth_pair == 'ETHUSDT': continue\n",
    "    usdt_pair = [pair for pair in usdt_pairs if eth_pair[3:] in pair][0]\n",
    "    buy = lambda x: x * get_best_price(usdt_books[usdt_pair]['asks'], x)  # Buying EUR/BUSD/USDC/TUSD\n",
    "    sell = lambda x: x * get_best_price(usdt_books[usdt_pair]['bids'], x)  # Selling EUR/BUSD/USDC/TUSD\n",
    "    normalized_books[eth_pair]['asks'] = [[buy(float(price)), amount] for price, amount in normalized_books[eth_pair]['asks']]\n",
    "    normalized_books[eth_pair]['bids'] = [[sell(float(price)), amount] for price, amount in normalized_books[eth_pair]['bids']]"
   ]
  },
  {
   "cell_type": "code",
   "execution_count": 5,
   "metadata": {
    "ExecuteTime": {
     "end_time": "2020-05-06T16:33:06.264809Z",
     "start_time": "2020-05-06T16:33:06.236810Z"
    }
   },
   "outputs": [
    {
     "name": "stdout",
     "output_type": "stream",
     "text": [
      "ETHUSDT/ETHUSDT -0.009249999999965298\n"
     ]
    }
   ],
   "source": [
    "amount = 100\n",
    "fees = 0.075\n",
    "best_prices = {'asks': [], 'bids': []}\n",
    "for pair in normalized_books:\n",
    "    ask_price = 1/get_best_price(normalized_books[pair]['asks'], amount, inverse=1)\n",
    "    bid_price = 1/get_best_price(normalized_books[pair]['bids'], amount, inverse=1)\n",
    "    best_prices['asks'] += [(pair, ask_price)]\n",
    "    best_prices['bids'] += [(pair, bid_price)]\n",
    "best_ask = min(best_prices['asks'], key=lambda x: x[1])\n",
    "best_bid = max(best_prices['bids'], key=lambda x: x[1])\n",
    "pairs = f\"{best_ask[0]}/{best_bid[0]}\"\n",
    "profit = (best_bid[1]-best_ask[1]) * (1-fees)\n",
    "\n",
    "print(pairs, profit)"
   ]
  },
  {
   "cell_type": "code",
   "execution_count": 29,
   "metadata": {
    "ExecuteTime": {
     "end_time": "2020-05-06T19:39:42.361937Z",
     "start_time": "2020-05-06T19:39:42.345963Z"
    },
    "scrolled": true
   },
   "outputs": [
    {
     "name": "stdout",
     "output_type": "stream",
     "text": [
      "HOLDING 100 USDT\n",
      "BUY 92.96272194849864 EURUSDT\n",
      "HOLDING 92.2655015338849 EUR\n",
      "BUY 0.4764521836261029 ETHEUR\n",
      "HOLDING 0.47287879224890716 ETH\n",
      "SELL 0.47287879224890716 ETHBUSD\n",
      "HOLDING 97.54600471965527 BUSD\n",
      "SELL 97.54600471965527 BUSDUSDT\n",
      "HOLDING: 96.9113210052631\n"
     ]
    }
   ],
   "source": [
    "best_ask = ('ETHEUR', 207.360)\n",
    "best_bid = ('ETHBUSD', 207.362)\n",
    "fee = 0.0075\n",
    "ask_asset = best_ask[0][3:]\n",
    "bid_asset = best_bid[0][3:]\n",
    "\n",
    "print(f\"HOLDING {amount} USDT\")\n",
    "\n",
    "# Convert if starting asset is not in USDT\n",
    "if ask_asset != 'USDT':\n",
    "    ask_asset_book = usdt_books[ask_asset + 'USDT']['asks']\n",
    "    buy_amount = get_best_price(ask_asset_book, amount, inverse=1) * amount\n",
    "    print(f\"BUY {buy_quan} {ask_asset + 'USDT'}\")\n",
    "    holding = buy_amount*(1-fee)\n",
    "else:\n",
    "    holding = amount\n",
    "print(f\"HOLDING {holding} {ask_asset}\")\n",
    "\n",
    "# Buy ETH\n",
    "buy_amount = holding*get_best_price(eth_books[best_ask[0]]['asks'], holding, inverse=1)\n",
    "holding = buy_amount*(1-fee)\n",
    "print(f\"BUY {buy_amount} {best_ask[0]}\")\n",
    "print(f\"HOLDING {holding} ETH\")\n",
    "          \n",
    "# Sell ETH\n",
    "sell_amount = holding\n",
    "print(f\"SELL {sell_amount} {best_bid[0]}\")\n",
    "holding = sell_amount*get_best_price(eth_books[best_bid[0]]['bids'], sell_amount)*(1-fee)\n",
    "print(f\"HOLDING {holding} {bid_asset}\")\n",
    "          \n",
    "# If asset is not in USDT convert it\n",
    "if bid_asset != 'USDT':\n",
    "    print(f\"SELL {holding} {bid_asset + 'USDT'}\")\n",
    "    bid_asset_book = usdt_books[bid_asset + 'USDT']['bids']\n",
    "    holding = get_best_price(bid_asset_book, holding, inverse=1) * holding * (1-fee)\n",
    "          \n",
    "print(f\"HOLDING: {holding}\")\n",
    "    "
   ]
  }
 ],
 "metadata": {
  "kernelspec": {
   "display_name": "Python 3",
   "language": "python",
   "name": "python3"
  },
  "language_info": {
   "codemirror_mode": {
    "name": "ipython",
    "version": 3
   },
   "file_extension": ".py",
   "mimetype": "text/x-python",
   "name": "python",
   "nbconvert_exporter": "python",
   "pygments_lexer": "ipython3",
   "version": "3.7.2"
  },
  "latex_envs": {
   "LaTeX_envs_menu_present": true,
   "autoclose": false,
   "autocomplete": true,
   "bibliofile": "biblio.bib",
   "cite_by": "apalike",
   "current_citInitial": 1,
   "eqLabelWithNumbers": true,
   "eqNumInitial": 1,
   "hotkeys": {
    "equation": "Ctrl-E",
    "itemize": "Ctrl-I"
   },
   "labels_anchors": false,
   "latex_user_defs": false,
   "report_style_numbering": false,
   "user_envs_cfg": false
  },
  "toc": {
   "base_numbering": 1,
   "nav_menu": {},
   "number_sections": true,
   "sideBar": true,
   "skip_h1_title": false,
   "title_cell": "Table of Contents",
   "title_sidebar": "Contents",
   "toc_cell": false,
   "toc_position": {},
   "toc_section_display": true,
   "toc_window_display": false
  }
 },
 "nbformat": 4,
 "nbformat_minor": 2
}
